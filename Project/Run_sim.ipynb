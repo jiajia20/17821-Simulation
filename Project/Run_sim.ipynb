{
 "cells": [
  {
   "cell_type": "markdown",
   "metadata": {},
   "source": [
    "## Experiements\n",
    "\n",
    "1. find out the "
   ]
  },
  {
   "cell_type": "code",
   "execution_count": 92,
   "metadata": {},
   "outputs": [],
   "source": [
    "from multi_msg_spread import * \n",
    "import matplotlib.pyplot as plt"
   ]
  },
  {
   "cell_type": "code",
   "execution_count": 104,
   "metadata": {},
   "outputs": [],
   "source": [
    "# initialize the stance_ave_stable_all and msgNum_ave_stable_all\n",
    "stance_ave_stable_all = []\n",
    "msgNum_ave_stable_all = []"
   ]
  },
  {
   "cell_type": "code",
   "execution_count": 105,
   "metadata": {},
   "outputs": [
    {
     "name": "stdout",
     "output_type": "stream",
     "text": [
      "time step 0\n",
      "time step 1\n",
      "time step 2\n",
      "time step 3\n",
      "time step 4\n",
      "time step 5\n",
      "time step 6\n",
      "time step 7\n",
      "time step 8\n",
      "time step 9\n",
      "time step 10\n",
      "time step 11\n",
      "time step 12\n",
      "time step 13\n",
      "time step 14\n",
      "time step 0\n",
      "time step 1\n",
      "time step 2\n",
      "time step 3\n",
      "time step 4\n",
      "time step 5\n",
      "time step 6\n",
      "time step 7\n",
      "time step 8\n",
      "time step 9\n",
      "time step 10\n",
      "time step 11\n",
      "time step 12\n",
      "time step 13\n",
      "time step 14\n",
      "time step 0\n",
      "time step 1\n",
      "time step 2\n",
      "time step 3\n",
      "time step 4\n",
      "time step 5\n",
      "time step 6\n",
      "time step 7\n",
      "time step 8\n",
      "time step 9\n",
      "time step 10\n",
      "time step 11\n",
      "time step 12\n",
      "time step 13\n",
      "time step 14\n",
      "time step 0\n",
      "time step 1\n",
      "time step 2\n",
      "time step 3\n",
      "time step 4\n",
      "time step 5\n",
      "time step 6\n",
      "time step 7\n",
      "time step 8\n",
      "time step 9\n",
      "time step 10\n",
      "time step 11\n",
      "time step 12\n",
      "time step 13\n",
      "time step 14\n",
      "time step 0\n",
      "time step 1\n",
      "time step 2\n",
      "time step 3\n",
      "time step 4\n",
      "time step 5\n",
      "time step 6\n",
      "time step 7\n",
      "time step 8\n",
      "time step 9\n",
      "time step 10\n",
      "time step 11\n",
      "time step 12\n",
      "time step 13\n",
      "time step 14\n",
      "time step 0\n",
      "time step 1\n",
      "time step 2\n",
      "time step 3\n",
      "time step 4\n",
      "time step 5\n",
      "time step 6\n",
      "time step 7\n",
      "time step 8\n",
      "time step 9\n",
      "time step 10\n",
      "time step 11\n",
      "time step 12\n",
      "time step 13\n",
      "time step 14\n",
      "time step 0\n",
      "time step 1\n",
      "time step 2\n",
      "time step 3\n",
      "time step 4\n",
      "time step 5\n",
      "time step 6\n",
      "time step 7\n",
      "time step 8\n",
      "time step 9\n",
      "time step 10\n",
      "time step 11\n",
      "time step 12\n",
      "time step 13\n",
      "time step 14\n",
      "time step 0\n",
      "time step 1\n",
      "time step 2\n",
      "time step 3\n",
      "time step 4\n",
      "time step 5\n",
      "time step 6\n",
      "time step 7\n",
      "time step 8\n",
      "time step 9\n",
      "time step 10\n",
      "time step 11\n",
      "time step 12\n",
      "time step 13\n",
      "time step 14\n",
      "time step 0\n",
      "time step 1\n",
      "time step 2\n",
      "time step 3\n",
      "time step 4\n",
      "time step 5\n",
      "time step 6\n",
      "time step 7\n",
      "time step 8\n",
      "time step 9\n",
      "time step 10\n",
      "time step 11\n",
      "time step 12\n",
      "time step 13\n",
      "time step 14\n",
      "time step 0\n",
      "time step 1\n",
      "time step 2\n",
      "time step 3\n",
      "time step 4\n",
      "time step 5\n",
      "time step 6\n",
      "time step 7\n",
      "time step 8\n",
      "time step 9\n",
      "time step 10\n",
      "time step 11\n",
      "time step 12\n",
      "time step 13\n",
      "time step 14\n"
     ]
    }
   ],
   "source": [
    "for i in range(10): \n",
    "    #initialize simulation\n",
    "    msg_list=[]\n",
    "    G, agent_dict = intialize_agent(agent_num = 40, pct_vul = 1, p=0.4)\n",
    "    df_stance, df_msgNum = initialize_agent_data(40)\n",
    "\n",
    "    #run 15 time step and the small system reaches equilibirum\n",
    "    for i in range(15):\n",
    "        print(\"time step\", i)\n",
    "        time_step(G, agent_dict,msg_list, i, 0, df_stance, df_msgNum)\n",
    "\n",
    "    stance_ave = df_stance.mean(axis=1)\n",
    "    stance_ave[14]\n",
    "\n",
    "    #find the stable value and save\n",
    "    stance_ave_stable = df_stance.mean(axis=1)[14]\n",
    "    msgNum_ave_stable = round(df_msgNum.mean(axis=1),2)[15]\n",
    "    stance_ave_stable_all.append(stance_ave_stable)\n",
    "    msgNum_ave_stable_all.append(msgNum_ave_stable)\n"
   ]
  },
  {
   "cell_type": "code",
   "execution_count": 106,
   "metadata": {},
   "outputs": [
    {
     "data": {
      "text/plain": [
       "[0.95, 0.95, -0.95, 0.95, -0.95, -0.95, -0.95, -0.95, -0.95, 0.95]"
      ]
     },
     "execution_count": 106,
     "metadata": {},
     "output_type": "execute_result"
    }
   ],
   "source": [
    "stance_ave_stable_all"
   ]
  },
  {
   "cell_type": "code",
   "execution_count": 96,
   "metadata": {},
   "outputs": [
    {
     "data": {
      "text/plain": [
       "[2.84, 3.11, 3.11, 2.84, 3.11, 2.84, 2.84, 3.11, 2.84, 2.84]"
      ]
     },
     "execution_count": 96,
     "metadata": {},
     "output_type": "execute_result"
    }
   ],
   "source": [
    "msgNum_ave_stable_all"
   ]
  },
  {
   "cell_type": "code",
   "execution_count": 37,
   "metadata": {},
   "outputs": [],
   "source": [
    "def Average(lst):\n",
    "    return sum(lst) / len(lst)"
   ]
  },
  {
   "cell_type": "code",
   "execution_count": 108,
   "metadata": {},
   "outputs": [
    {
     "data": {
      "text/plain": [
       "-0.18999999999999997"
      ]
     },
     "execution_count": 108,
     "metadata": {},
     "output_type": "execute_result"
    }
   ],
   "source": [
    "Average(l)"
   ]
  },
  {
   "cell_type": "code",
   "execution_count": 107,
   "metadata": {},
   "outputs": [],
   "source": [
    "l = [0.95, 0.95, -0.95, 0.95, -0.95, -0.95, -0.95, -0.95, -0.95, 0.95]\n"
   ]
  },
  {
   "cell_type": "markdown",
   "metadata": {},
   "source": [
    "## Data"
   ]
  },
  {
   "cell_type": "markdown",
   "metadata": {},
   "source": [
    "1.0 vulunerable, 0.5 E manuver, alpha = 2 omega =2\n",
    "stance: [-0.95, 0.95, -0.95, -0.95, -0.95, 0.95, -0.95, -0.95, 0.95, -0.95]  => -0.38\n",
    "msMub: [2.84, 3.11, 2.84, 2.84, 2.84, 3.11, 2.84, 2.84, 3.11, 2.84]\n",
    "\n",
    "\n",
    "0.6 vulunerable, 0.5 E manuver, alpha = 2 omega =2\n",
    "stance: [-0.95, 0.95, -0.95, -0.95, -0.95, -0.95, 0.95, 0.95, 0.95, -0.95] => -0.189\n",
    "msMub: [2.84, 3.11, 2.84, 2.84, 2.84, 2.84, 3.11, 3.11, 3.11, 2.84]\n",
    "\n",
    "0.2 vulunerable, 0.5 E manuver, alpha = 2 omega =2\n",
    "stance: [0.95, 0.95, -0.95, 0.95, 0.95, 0.95, 0.95, -0.95, 0.95, 0.95] => 0.57\n",
    "msMub: [3.11, 3.11, 2.84, 3.11, 3.11, 3.11, 3.11, 2.84, 3.11, 3.11]"
   ]
  },
  {
   "cell_type": "code",
   "execution_count": 85,
   "metadata": {},
   "outputs": [
    {
     "data": {
      "text/plain": [
       "0.00033333333333333365"
      ]
     },
     "execution_count": 85,
     "metadata": {},
     "output_type": "execute_result"
    }
   ],
   "source": [
    "sum([-0.38, -0.189,0.57])/3"
   ]
  },
  {
   "cell_type": "markdown",
   "metadata": {},
   "source": [
    "1.0 vulunerable, 0% E manuver, alpha = 2 omega =2\n",
    "stance: [-0.95, -0.95, -0.95, 0.95, 0.95, -0.95, -0.95, -0.95, -0.95, 0.95]  => -0.38\n",
    "msMub: [2.84, 2.84, 2.84, 3.11, 3.11, 2.84, 2.84, 2.84, 2.84, 3.11]\n",
    "\n",
    "0.6 vulunerable, 0% E manuver, alpha = 2 omega =2\n",
    "stance: [0.95, 0.95, 0.95, -0.95, -0.95, -0.95, -0.95, -0.95, -0.95, -0.95] => -0.38\n",
    "msMub: [2.84, 2.84, 2.84, 2.84, 3.11, 2.84, 2.84, 3.11, 2.84, 2.84]\n",
    "\n",
    "0.2 vulunerable, 0% E manuver, alpha = 2 omega =2\n",
    "stance: [-0.95, 0.95, 0.95, -0.95, 0.95, -0.95, -0.95, 0.95, -0.95, -0.95] => -0.19\n",
    "msMub: [2.84, 2.84, 2.84, 3.11, 2.84, 3.11, 3.11, 2.84, 2.84, 3.11]\n"
   ]
  },
  {
   "cell_type": "code",
   "execution_count": null,
   "metadata": {},
   "outputs": [],
   "source": [
    "[-0.95, 0.95, 0.95, -0.95, 0.95, -0.95, -0.95, 0.95, -0.95, -0.95]"
   ]
  },
  {
   "cell_type": "code",
   "execution_count": 86,
   "metadata": {},
   "outputs": [
    {
     "data": {
      "text/plain": [
       "-1.13"
      ]
     },
     "execution_count": 86,
     "metadata": {},
     "output_type": "execute_result"
    }
   ],
   "source": [
    "sum([-0.38, -0.57,-0.18 ])"
   ]
  },
  {
   "cell_type": "markdown",
   "metadata": {},
   "source": [
    "1.0 vulunerable, 100% E manuver, alpha = 2 omega =2\n",
    "stance: [-0.05, 0.0, -0.2, -0.05, 0.0, 0.0, -0.4, -0.25, 0.0, 0.0] => -0.095\n",
    "msg: [4.0, 4.0, 4.0, 4.0, 4.0, 4.0, 4.0, 4.0, 4.0, 4.0]\n",
    "\n",
    "0.6 vulunerable, 100% E manuver, alpha = 2 omega =2\n",
    "stance: [-0.45, 0.35, -0.5, -0.6, -0.25, -0.45, -0.4, 0.4, -0.4, -0.3] => -0.26\n",
    "msg: [3.95, 3.95, 3.92, 3.68, 3.92, 3.95, 3.89, 3.89, 4.0, 4.0]\n",
    "\n",
    "0.2 vulunerable, 100% E manuver, alpha = 2 omega =2\n",
    "stance [-0.9, -0.85, -0.85, -0.85, -0.95, 0.85, -0.7, 0.85, -0.85, 0.25] => -0.4\n",
    "MsMub [3.16, 3.26, 3.21, 3.37, 2.84, 3.47, 3.47, 3.79, 3.21, 3.63]"
   ]
  },
  {
   "cell_type": "code",
   "execution_count": 87,
   "metadata": {},
   "outputs": [
    {
     "data": {
      "text/plain": [
       "-0.755"
      ]
     },
     "execution_count": 87,
     "metadata": {},
     "output_type": "execute_result"
    }
   ],
   "source": [
    "sum([-0.095, -0.26, -0.4])"
   ]
  },
  {
   "cell_type": "markdown",
   "metadata": {},
   "source": [
    "## Randoomized network\n"
   ]
  },
  {
   "cell_type": "code",
   "execution_count": 76,
   "metadata": {},
   "outputs": [],
   "source": [
    "from multi_msg_spread_rdnetwork import * \n",
    "import matplotlib.pyplot as plt"
   ]
  },
  {
   "cell_type": "code",
   "execution_count": 77,
   "metadata": {},
   "outputs": [],
   "source": [
    "# initialize the stance_ave_stable_all and msgNum_ave_stable_all\n",
    "stance_ave_stable_all = []\n",
    "msgNum_ave_stable_all = []"
   ]
  },
  {
   "cell_type": "code",
   "execution_count": 78,
   "metadata": {},
   "outputs": [
    {
     "name": "stdout",
     "output_type": "stream",
     "text": [
      "time step 0\n",
      "time step 1\n",
      "time step 2\n",
      "time step 3\n",
      "time step 4\n",
      "time step 5\n",
      "time step 6\n",
      "time step 7\n",
      "time step 8\n",
      "time step 9\n",
      "time step 10\n",
      "time step 11\n",
      "time step 12\n",
      "time step 13\n",
      "time step 14\n",
      "time step 0\n",
      "time step 1\n",
      "time step 2\n",
      "time step 3\n",
      "time step 4\n",
      "time step 5\n",
      "time step 6\n",
      "time step 7\n",
      "time step 8\n",
      "time step 9\n",
      "time step 10\n",
      "time step 11\n",
      "time step 12\n",
      "time step 13\n",
      "time step 14\n",
      "time step 0\n",
      "time step 1\n",
      "time step 2\n",
      "time step 3\n",
      "time step 4\n",
      "time step 5\n",
      "time step 6\n",
      "time step 7\n",
      "time step 8\n",
      "time step 9\n",
      "time step 10\n",
      "time step 11\n",
      "time step 12\n",
      "time step 13\n",
      "time step 14\n",
      "time step 0\n",
      "time step 1\n",
      "time step 2\n",
      "time step 3\n",
      "time step 4\n",
      "time step 5\n",
      "time step 6\n",
      "time step 7\n",
      "time step 8\n",
      "time step 9\n",
      "time step 10\n",
      "time step 11\n",
      "time step 12\n",
      "time step 13\n",
      "time step 14\n",
      "time step 0\n",
      "time step 1\n",
      "time step 2\n",
      "time step 3\n",
      "time step 4\n",
      "time step 5\n",
      "time step 6\n",
      "time step 7\n",
      "time step 8\n",
      "time step 9\n",
      "time step 10\n",
      "time step 11\n",
      "time step 12\n",
      "time step 13\n",
      "time step 14\n",
      "time step 0\n",
      "time step 1\n",
      "time step 2\n",
      "time step 3\n",
      "time step 4\n",
      "time step 5\n",
      "time step 6\n",
      "time step 7\n",
      "time step 8\n",
      "time step 9\n",
      "time step 10\n",
      "time step 11\n",
      "time step 12\n",
      "time step 13\n",
      "time step 14\n",
      "time step 0\n",
      "time step 1\n",
      "time step 2\n",
      "time step 3\n",
      "time step 4\n",
      "time step 5\n",
      "time step 6\n",
      "time step 7\n",
      "time step 8\n",
      "time step 9\n",
      "time step 10\n",
      "time step 11\n",
      "time step 12\n",
      "time step 13\n",
      "time step 14\n",
      "time step 0\n"
     ]
    },
    {
     "ename": "AttributeError",
     "evalue": "'str' object has no attribute 'get_msg'",
     "output_type": "error",
     "traceback": [
      "\u001b[0;31m---------------------------------------------------------------------------\u001b[0m",
      "\u001b[0;31mAttributeError\u001b[0m                            Traceback (most recent call last)",
      "\u001b[0;32m<ipython-input-78-e612adc81c1d>\u001b[0m in \u001b[0;36m<module>\u001b[0;34m\u001b[0m\n\u001b[1;32m      8\u001b[0m     \u001b[0;32mfor\u001b[0m \u001b[0mi\u001b[0m \u001b[0;32min\u001b[0m \u001b[0mrange\u001b[0m\u001b[0;34m(\u001b[0m\u001b[0;36m15\u001b[0m\u001b[0;34m)\u001b[0m\u001b[0;34m:\u001b[0m\u001b[0;34m\u001b[0m\u001b[0;34m\u001b[0m\u001b[0m\n\u001b[1;32m      9\u001b[0m         \u001b[0mprint\u001b[0m\u001b[0;34m(\u001b[0m\u001b[0;34m\"time step\"\u001b[0m\u001b[0;34m,\u001b[0m \u001b[0mi\u001b[0m\u001b[0;34m)\u001b[0m\u001b[0;34m\u001b[0m\u001b[0;34m\u001b[0m\u001b[0m\n\u001b[0;32m---> 10\u001b[0;31m         \u001b[0mtime_step\u001b[0m\u001b[0;34m(\u001b[0m\u001b[0mG\u001b[0m\u001b[0;34m,\u001b[0m \u001b[0magent_dict\u001b[0m\u001b[0;34m,\u001b[0m\u001b[0mmsg_list\u001b[0m\u001b[0;34m,\u001b[0m \u001b[0mi\u001b[0m\u001b[0;34m,\u001b[0m \u001b[0;36m0.5\u001b[0m\u001b[0;34m,\u001b[0m \u001b[0mdf_stance\u001b[0m\u001b[0;34m,\u001b[0m \u001b[0mdf_msgNum\u001b[0m\u001b[0;34m)\u001b[0m\u001b[0;34m\u001b[0m\u001b[0;34m\u001b[0m\u001b[0m\n\u001b[0m\u001b[1;32m     11\u001b[0m \u001b[0;34m\u001b[0m\u001b[0m\n\u001b[1;32m     12\u001b[0m     \u001b[0mstance_ave\u001b[0m \u001b[0;34m=\u001b[0m \u001b[0mdf_stance\u001b[0m\u001b[0;34m.\u001b[0m\u001b[0mmean\u001b[0m\u001b[0;34m(\u001b[0m\u001b[0maxis\u001b[0m\u001b[0;34m=\u001b[0m\u001b[0;36m1\u001b[0m\u001b[0;34m)\u001b[0m\u001b[0;34m\u001b[0m\u001b[0;34m\u001b[0m\u001b[0m\n",
      "\u001b[0;32m~/Code/17821-Simulation/Project/multi_msg_spread_rdnetwork.py\u001b[0m in \u001b[0;36mtime_step\u001b[0;34m(G, agent_dict, msg_list, msg_index, manuver_pct_E, df_stance, df_msg)\u001b[0m\n\u001b[1;32m    198\u001b[0m     \u001b[0mstance_news_1\u001b[0m \u001b[0;34m=\u001b[0m \u001b[0mstance\u001b[0m\u001b[0;34m(\u001b[0m\u001b[0mmanuver_pct_E\u001b[0m\u001b[0;34m)\u001b[0m\u001b[0;34m\u001b[0m\u001b[0;34m\u001b[0m\u001b[0m\n\u001b[1;32m    199\u001b[0m     \u001b[0mnews_generate\u001b[0m\u001b[0;34m(\u001b[0m\u001b[0mG\u001b[0m\u001b[0;34m,\u001b[0m\u001b[0magent_dict\u001b[0m\u001b[0;34m,\u001b[0m \u001b[0mmsg_list\u001b[0m\u001b[0;34m,\u001b[0m \u001b[0mnews_agent_index\u001b[0m \u001b[0;34m=\u001b[0m \u001b[0;36m0\u001b[0m\u001b[0;34m,\u001b[0m \u001b[0mmessage_index\u001b[0m \u001b[0;34m=\u001b[0m \u001b[0mmsg_index\u001b[0m\u001b[0;34m,\u001b[0m \u001b[0mmanuver\u001b[0m \u001b[0;34m=\u001b[0m \u001b[0mstance_news_0\u001b[0m\u001b[0;34m,\u001b[0m \u001b[0mstance\u001b[0m \u001b[0;34m=\u001b[0m \u001b[0;36m1\u001b[0m\u001b[0;34m)\u001b[0m\u001b[0;34m\u001b[0m\u001b[0;34m\u001b[0m\u001b[0m\n\u001b[0;32m--> 200\u001b[0;31m     \u001b[0mnews_generate\u001b[0m\u001b[0;34m(\u001b[0m\u001b[0mG\u001b[0m\u001b[0;34m,\u001b[0m\u001b[0magent_dict\u001b[0m\u001b[0;34m,\u001b[0m \u001b[0mmsg_list\u001b[0m\u001b[0;34m,\u001b[0m \u001b[0mnews_agent_index\u001b[0m \u001b[0;34m=\u001b[0m \u001b[0;36m1\u001b[0m\u001b[0;34m,\u001b[0m \u001b[0mmessage_index\u001b[0m \u001b[0;34m=\u001b[0m \u001b[0mmsg_index\u001b[0m\u001b[0;34m,\u001b[0m \u001b[0mmanuver\u001b[0m \u001b[0;34m=\u001b[0m \u001b[0mstance_news_1\u001b[0m\u001b[0;34m,\u001b[0m \u001b[0mstance\u001b[0m \u001b[0;34m=\u001b[0m \u001b[0;34m-\u001b[0m\u001b[0;36m1\u001b[0m\u001b[0;34m)\u001b[0m\u001b[0;34m\u001b[0m\u001b[0;34m\u001b[0m\u001b[0m\n\u001b[0m\u001b[1;32m    201\u001b[0m \u001b[0;34m\u001b[0m\u001b[0m\n\u001b[1;32m    202\u001b[0m     \u001b[0morder_l\u001b[0m \u001b[0;34m=\u001b[0m \u001b[0;34m[\u001b[0m\u001b[0mn\u001b[0m \u001b[0;32mfor\u001b[0m \u001b[0mn\u001b[0m \u001b[0;32min\u001b[0m \u001b[0mrange\u001b[0m\u001b[0;34m(\u001b[0m\u001b[0mlen\u001b[0m\u001b[0;34m(\u001b[0m\u001b[0magent_dict\u001b[0m\u001b[0;34m)\u001b[0m\u001b[0;34m)\u001b[0m\u001b[0;34m]\u001b[0m\u001b[0;34m\u001b[0m\u001b[0;34m\u001b[0m\u001b[0m\n",
      "\u001b[0;32m~/Code/17821-Simulation/Project/multi_msg_spread_rdnetwork.py\u001b[0m in \u001b[0;36mnews_generate\u001b[0;34m(network, agent_dict, msg_list, news_agent_index, message_index, manuver, stance)\u001b[0m\n\u001b[1;32m     73\u001b[0m     \u001b[0;32mfor\u001b[0m \u001b[0mj\u001b[0m \u001b[0;32min\u001b[0m \u001b[0mneighbors\u001b[0m\u001b[0;34m:\u001b[0m\u001b[0;34m\u001b[0m\u001b[0;34m\u001b[0m\u001b[0m\n\u001b[1;32m     74\u001b[0m         \u001b[0magent\u001b[0m \u001b[0;34m=\u001b[0m \u001b[0magent_dict\u001b[0m\u001b[0;34m.\u001b[0m\u001b[0mget\u001b[0m\u001b[0;34m(\u001b[0m\u001b[0mj\u001b[0m\u001b[0;34m)\u001b[0m\u001b[0;34m\u001b[0m\u001b[0;34m\u001b[0m\u001b[0m\n\u001b[0;32m---> 75\u001b[0;31m         \u001b[0magent\u001b[0m\u001b[0;34m.\u001b[0m\u001b[0mget_msg\u001b[0m\u001b[0;34m(\u001b[0m\u001b[0mnew_msg\u001b[0m\u001b[0;34m)\u001b[0m\u001b[0;34m\u001b[0m\u001b[0;34m\u001b[0m\u001b[0m\n\u001b[0m\u001b[1;32m     76\u001b[0m \u001b[0;34m\u001b[0m\u001b[0m\n\u001b[1;32m     77\u001b[0m \u001b[0;34m\u001b[0m\u001b[0m\n",
      "\u001b[0;31mAttributeError\u001b[0m: 'str' object has no attribute 'get_msg'"
     ]
    }
   ],
   "source": [
    "for i in range(10): \n",
    "    #initialize simulation\n",
    "    msg_list=[]\n",
    "    G, agent_dict = intialize_agent(agent_num = 40, pct_vul = 1, p=0.4)\n",
    "    df_stance, df_msgNum = initialize_agent_data(40)\n",
    "\n",
    "    #run 15 time step and the small system reaches equilibirum\n",
    "    for i in range(15):\n",
    "        print(\"time step\", i)\n",
    "        time_step(G, agent_dict,msg_list, i, 0.5, df_stance, df_msgNum)\n",
    "\n",
    "    stance_ave = df_stance.mean(axis=1)\n",
    "    stance_ave[14]\n",
    "\n",
    "    #find the stable value and save\n",
    "    stance_ave_stable = df_stance.mean(axis=1)[14]\n",
    "    msgNum_ave_stable = round(df_msgNum.mean(axis=1),2)[15]\n",
    "    stance_ave_stable_all.append(stance_ave_stable)\n",
    "    msgNum_ave_stable_all.append(msgNum_ave_stable)"
   ]
  },
  {
   "cell_type": "code",
   "execution_count": null,
   "metadata": {},
   "outputs": [],
   "source": [
    "stance_ave_stable_all"
   ]
  },
  {
   "cell_type": "code",
   "execution_count": null,
   "metadata": {},
   "outputs": [],
   "source": [
    "msgNum_ave_stable_all"
   ]
  },
  {
   "cell_type": "markdown",
   "metadata": {},
   "source": [
    "## Experiment and find EQ state"
   ]
  },
  {
   "cell_type": "code",
   "execution_count": 10,
   "metadata": {},
   "outputs": [
    {
     "data": {
      "text/plain": [
       "0     0.05\n",
       "1     0.05\n",
       "2     0.20\n",
       "3     0.20\n",
       "4     0.15\n",
       "5     0.05\n",
       "6    -0.80\n",
       "7    -0.90\n",
       "8    -0.95\n",
       "9    -0.95\n",
       "10   -0.95\n",
       "11   -0.95\n",
       "12   -0.95\n",
       "13   -0.95\n",
       "14   -0.95\n",
       "dtype: float64"
      ]
     },
     "execution_count": 10,
     "metadata": {},
     "output_type": "execute_result"
    }
   ],
   "source": [
    "stance_ave = df_stance.mean(axis=1)\n",
    "stance_ave"
   ]
  },
  {
   "cell_type": "code",
   "execution_count": 4,
   "metadata": {},
   "outputs": [
    {
     "data": {
      "image/png": "[encoded data removed]",
      "text/plain": [
       "<Figure size 432x288 with 1 Axes>"
      ]
     },
     "metadata": {
      "needs_background": "light"
     },
     "output_type": "display_data"
    }
   ],
   "source": [
    "stance_ave = df_stance.mean(axis=1)\n",
    "stance_ave.plot(xlabel=\"Time Steps\", ylabel=\"pct of positive stance\", title= \"1.0 vulunerable, 0.5 E manuver, alpha = 2 omega =2\")\n",
    "for index, value in enumerate(list(stance_ave)):\n",
    "    plt.text(index, value, str(value))\n",
    "plt.show()\n"
   ]
  },
  {
   "cell_type": "code",
   "execution_count": 5,
   "metadata": {},
   "outputs": [
    {
     "data": {
      "image/png": "[encoded data removed]",
      "text/plain": [
       "<Figure size 432x288 with 1 Axes>"
      ]
     },
     "metadata": {
      "needs_background": "light"
     },
     "output_type": "display_data"
    }
   ],
   "source": [
    "msgNum_ave = round(df_msgNum.mean(axis=1),2)\n",
    "msgNum_ave.plot(kind = 'bar', xlabel=\"Time Steps\", ylabel=\"ave number of post each agent has\", title= \"1.0 vulunerable, 0.5 E manuver, alpha = 2 omega =2\")\n",
    "for index, value in enumerate(list(msgNum_ave)):\n",
    "    plt.text(index, value, str(value))\n",
    "plt.show()"
   ]
  },
  {
   "cell_type": "code",
   "execution_count": 12,
   "metadata": {},
   "outputs": [
    {
     "data": {
      "text/html": [
       "<div>\n",
       "<style scoped>\n",
       "    .dataframe tbody tr th:only-of-type {\n",
       "        vertical-align: middle;\n",
       "    }\n",
       "\n",
       "    .dataframe tbody tr th {\n",
       "        vertical-align: top;\n",
       "    }\n",
       "\n",
       "    .dataframe thead th {\n",
       "        text-align: right;\n",
       "    }\n",
       "</style>\n",
       "<table border=\"1\" class=\"dataframe\">\n",
       "  <thead>\n",
       "    <tr style=\"text-align: right;\">\n",
       "      <th></th>\n",
       "      <th>0</th>\n",
       "      <th>1</th>\n",
       "      <th>2</th>\n",
       "      <th>3</th>\n",
       "      <th>4</th>\n",
       "      <th>5</th>\n",
       "      <th>6</th>\n",
       "      <th>7</th>\n",
       "      <th>8</th>\n",
       "      <th>9</th>\n",
       "      <th>...</th>\n",
       "      <th>40</th>\n",
       "      <th>41</th>\n",
       "      <th>42</th>\n",
       "      <th>43</th>\n",
       "      <th>44</th>\n",
       "      <th>45</th>\n",
       "      <th>46</th>\n",
       "      <th>47</th>\n",
       "      <th>48</th>\n",
       "      <th>49</th>\n",
       "    </tr>\n",
       "  </thead>\n",
       "  <tbody>\n",
       "    <tr>\n",
       "      <th>1</th>\n",
       "      <td>NaN</td>\n",
       "      <td>NaN</td>\n",
       "      <td>2.0</td>\n",
       "      <td>2.0</td>\n",
       "      <td>2.0</td>\n",
       "      <td>1.0</td>\n",
       "      <td>0.0</td>\n",
       "      <td>0.0</td>\n",
       "      <td>1.0</td>\n",
       "      <td>1.0</td>\n",
       "      <td>...</td>\n",
       "      <td>0.0</td>\n",
       "      <td>1.0</td>\n",
       "      <td>2.0</td>\n",
       "      <td>2.0</td>\n",
       "      <td>1.0</td>\n",
       "      <td>1.0</td>\n",
       "      <td>1.0</td>\n",
       "      <td>2.0</td>\n",
       "      <td>2.0</td>\n",
       "      <td>0.0</td>\n",
       "    </tr>\n",
       "    <tr>\n",
       "      <th>2</th>\n",
       "      <td>NaN</td>\n",
       "      <td>NaN</td>\n",
       "      <td>4.0</td>\n",
       "      <td>4.0</td>\n",
       "      <td>4.0</td>\n",
       "      <td>4.0</td>\n",
       "      <td>0.0</td>\n",
       "      <td>0.0</td>\n",
       "      <td>2.0</td>\n",
       "      <td>4.0</td>\n",
       "      <td>...</td>\n",
       "      <td>2.0</td>\n",
       "      <td>2.0</td>\n",
       "      <td>4.0</td>\n",
       "      <td>4.0</td>\n",
       "      <td>2.0</td>\n",
       "      <td>2.0</td>\n",
       "      <td>2.0</td>\n",
       "      <td>4.0</td>\n",
       "      <td>4.0</td>\n",
       "      <td>0.0</td>\n",
       "    </tr>\n",
       "    <tr>\n",
       "      <th>3</th>\n",
       "      <td>NaN</td>\n",
       "      <td>NaN</td>\n",
       "      <td>4.0</td>\n",
       "      <td>4.0</td>\n",
       "      <td>4.0</td>\n",
       "      <td>4.0</td>\n",
       "      <td>2.0</td>\n",
       "      <td>4.0</td>\n",
       "      <td>2.0</td>\n",
       "      <td>4.0</td>\n",
       "      <td>...</td>\n",
       "      <td>4.0</td>\n",
       "      <td>4.0</td>\n",
       "      <td>4.0</td>\n",
       "      <td>4.0</td>\n",
       "      <td>2.0</td>\n",
       "      <td>2.0</td>\n",
       "      <td>2.0</td>\n",
       "      <td>4.0</td>\n",
       "      <td>4.0</td>\n",
       "      <td>2.0</td>\n",
       "    </tr>\n",
       "    <tr>\n",
       "      <th>4</th>\n",
       "      <td>NaN</td>\n",
       "      <td>NaN</td>\n",
       "      <td>4.0</td>\n",
       "      <td>4.0</td>\n",
       "      <td>4.0</td>\n",
       "      <td>4.0</td>\n",
       "      <td>2.0</td>\n",
       "      <td>3.0</td>\n",
       "      <td>2.0</td>\n",
       "      <td>4.0</td>\n",
       "      <td>...</td>\n",
       "      <td>3.0</td>\n",
       "      <td>4.0</td>\n",
       "      <td>4.0</td>\n",
       "      <td>4.0</td>\n",
       "      <td>2.0</td>\n",
       "      <td>2.0</td>\n",
       "      <td>2.0</td>\n",
       "      <td>4.0</td>\n",
       "      <td>4.0</td>\n",
       "      <td>2.0</td>\n",
       "    </tr>\n",
       "    <tr>\n",
       "      <th>5</th>\n",
       "      <td>NaN</td>\n",
       "      <td>NaN</td>\n",
       "      <td>4.0</td>\n",
       "      <td>4.0</td>\n",
       "      <td>4.0</td>\n",
       "      <td>4.0</td>\n",
       "      <td>2.0</td>\n",
       "      <td>2.0</td>\n",
       "      <td>2.0</td>\n",
       "      <td>4.0</td>\n",
       "      <td>...</td>\n",
       "      <td>2.0</td>\n",
       "      <td>4.0</td>\n",
       "      <td>4.0</td>\n",
       "      <td>4.0</td>\n",
       "      <td>2.0</td>\n",
       "      <td>2.0</td>\n",
       "      <td>2.0</td>\n",
       "      <td>4.0</td>\n",
       "      <td>4.0</td>\n",
       "      <td>2.0</td>\n",
       "    </tr>\n",
       "    <tr>\n",
       "      <th>6</th>\n",
       "      <td>NaN</td>\n",
       "      <td>NaN</td>\n",
       "      <td>4.0</td>\n",
       "      <td>4.0</td>\n",
       "      <td>4.0</td>\n",
       "      <td>4.0</td>\n",
       "      <td>2.0</td>\n",
       "      <td>2.0</td>\n",
       "      <td>2.0</td>\n",
       "      <td>4.0</td>\n",
       "      <td>...</td>\n",
       "      <td>2.0</td>\n",
       "      <td>4.0</td>\n",
       "      <td>4.0</td>\n",
       "      <td>4.0</td>\n",
       "      <td>2.0</td>\n",
       "      <td>2.0</td>\n",
       "      <td>2.0</td>\n",
       "      <td>4.0</td>\n",
       "      <td>4.0</td>\n",
       "      <td>2.0</td>\n",
       "    </tr>\n",
       "    <tr>\n",
       "      <th>7</th>\n",
       "      <td>NaN</td>\n",
       "      <td>NaN</td>\n",
       "      <td>4.0</td>\n",
       "      <td>4.0</td>\n",
       "      <td>4.0</td>\n",
       "      <td>4.0</td>\n",
       "      <td>2.0</td>\n",
       "      <td>2.0</td>\n",
       "      <td>2.0</td>\n",
       "      <td>4.0</td>\n",
       "      <td>...</td>\n",
       "      <td>2.0</td>\n",
       "      <td>4.0</td>\n",
       "      <td>4.0</td>\n",
       "      <td>4.0</td>\n",
       "      <td>2.0</td>\n",
       "      <td>2.0</td>\n",
       "      <td>2.0</td>\n",
       "      <td>4.0</td>\n",
       "      <td>4.0</td>\n",
       "      <td>2.0</td>\n",
       "    </tr>\n",
       "    <tr>\n",
       "      <th>8</th>\n",
       "      <td>NaN</td>\n",
       "      <td>NaN</td>\n",
       "      <td>4.0</td>\n",
       "      <td>4.0</td>\n",
       "      <td>4.0</td>\n",
       "      <td>4.0</td>\n",
       "      <td>2.0</td>\n",
       "      <td>2.0</td>\n",
       "      <td>2.0</td>\n",
       "      <td>4.0</td>\n",
       "      <td>...</td>\n",
       "      <td>2.0</td>\n",
       "      <td>4.0</td>\n",
       "      <td>4.0</td>\n",
       "      <td>4.0</td>\n",
       "      <td>2.0</td>\n",
       "      <td>2.0</td>\n",
       "      <td>2.0</td>\n",
       "      <td>4.0</td>\n",
       "      <td>4.0</td>\n",
       "      <td>2.0</td>\n",
       "    </tr>\n",
       "    <tr>\n",
       "      <th>9</th>\n",
       "      <td>NaN</td>\n",
       "      <td>NaN</td>\n",
       "      <td>4.0</td>\n",
       "      <td>4.0</td>\n",
       "      <td>4.0</td>\n",
       "      <td>4.0</td>\n",
       "      <td>2.0</td>\n",
       "      <td>2.0</td>\n",
       "      <td>2.0</td>\n",
       "      <td>4.0</td>\n",
       "      <td>...</td>\n",
       "      <td>2.0</td>\n",
       "      <td>4.0</td>\n",
       "      <td>4.0</td>\n",
       "      <td>4.0</td>\n",
       "      <td>2.0</td>\n",
       "      <td>2.0</td>\n",
       "      <td>2.0</td>\n",
       "      <td>4.0</td>\n",
       "      <td>4.0</td>\n",
       "      <td>2.0</td>\n",
       "    </tr>\n",
       "    <tr>\n",
       "      <th>10</th>\n",
       "      <td>NaN</td>\n",
       "      <td>NaN</td>\n",
       "      <td>4.0</td>\n",
       "      <td>4.0</td>\n",
       "      <td>4.0</td>\n",
       "      <td>4.0</td>\n",
       "      <td>2.0</td>\n",
       "      <td>2.0</td>\n",
       "      <td>2.0</td>\n",
       "      <td>4.0</td>\n",
       "      <td>...</td>\n",
       "      <td>2.0</td>\n",
       "      <td>4.0</td>\n",
       "      <td>4.0</td>\n",
       "      <td>4.0</td>\n",
       "      <td>2.0</td>\n",
       "      <td>2.0</td>\n",
       "      <td>2.0</td>\n",
       "      <td>4.0</td>\n",
       "      <td>4.0</td>\n",
       "      <td>2.0</td>\n",
       "    </tr>\n",
       "  </tbody>\n",
       "</table>\n",
       "<p>10 rows × 50 columns</p>\n",
       "</div>"
      ],
      "text/plain": [
       "    0   1    2    3    4    5    6    7    8    9   ...   40   41   42   43  \\\n",
       "1  NaN NaN  2.0  2.0  2.0  1.0  0.0  0.0  1.0  1.0  ...  0.0  1.0  2.0  2.0   \n",
       "2  NaN NaN  4.0  4.0  4.0  4.0  0.0  0.0  2.0  4.0  ...  2.0  2.0  4.0  4.0   \n",
       "3  NaN NaN  4.0  4.0  4.0  4.0  2.0  4.0  2.0  4.0  ...  4.0  4.0  4.0  4.0   \n",
       "4  NaN NaN  4.0  4.0  4.0  4.0  2.0  3.0  2.0  4.0  ...  3.0  4.0  4.0  4.0   \n",
       "5  NaN NaN  4.0  4.0  4.0  4.0  2.0  2.0  2.0  4.0  ...  2.0  4.0  4.0  4.0   \n",
       "6  NaN NaN  4.0  4.0  4.0  4.0  2.0  2.0  2.0  4.0  ...  2.0  4.0  4.0  4.0   \n",
       "7  NaN NaN  4.0  4.0  4.0  4.0  2.0  2.0  2.0  4.0  ...  2.0  4.0  4.0  4.0   \n",
       "8  NaN NaN  4.0  4.0  4.0  4.0  2.0  2.0  2.0  4.0  ...  2.0  4.0  4.0  4.0   \n",
       "9  NaN NaN  4.0  4.0  4.0  4.0  2.0  2.0  2.0  4.0  ...  2.0  4.0  4.0  4.0   \n",
       "10 NaN NaN  4.0  4.0  4.0  4.0  2.0  2.0  2.0  4.0  ...  2.0  4.0  4.0  4.0   \n",
       "\n",
       "     44   45   46   47   48   49  \n",
       "1   1.0  1.0  1.0  2.0  2.0  0.0  \n",
       "2   2.0  2.0  2.0  4.0  4.0  0.0  \n",
       "3   2.0  2.0  2.0  4.0  4.0  2.0  \n",
       "4   2.0  2.0  2.0  4.0  4.0  2.0  \n",
       "5   2.0  2.0  2.0  4.0  4.0  2.0  \n",
       "6   2.0  2.0  2.0  4.0  4.0  2.0  \n",
       "7   2.0  2.0  2.0  4.0  4.0  2.0  \n",
       "8   2.0  2.0  2.0  4.0  4.0  2.0  \n",
       "9   2.0  2.0  2.0  4.0  4.0  2.0  \n",
       "10  2.0  2.0  2.0  4.0  4.0  2.0  \n",
       "\n",
       "[10 rows x 50 columns]"
      ]
     },
     "execution_count": 12,
     "metadata": {},
     "output_type": "execute_result"
    }
   ],
   "source": [
    "df_msgNum"
   ]
  },
  {
   "cell_type": "markdown",
   "metadata": {},
   "source": [
    "# Notes"
   ]
  },
  {
   "cell_type": "code",
   "execution_count": null,
   "metadata": {},
   "outputs": [],
   "source": [
    "df = pd.DataFrame({'month':['jan','feb'], 'val':[1.3,2.4]})\n",
    "df.plot(kind='bar', x='month', y='val')\n",
    "for index, value in enumerate(list(df[\"val\"])):\n",
    "    plt.text(index, value, str(value))\n",
    "plt.show()"
   ]
  }
 ],
 "metadata": {
  "kernelspec": {
   "display_name": "Python 3.8.8 ('base')",
   "language": "python",
   "name": "python3"
  },
  "language_info": {
   "codemirror_mode": {
    "name": "ipython",
    "version": 3
   },
   "file_extension": ".py",
   "mimetype": "text/x-python",
   "name": "python",
   "nbconvert_exporter": "python",
   "pygments_lexer": "ipython3",
   "version": "3.8.8"
  },
  "orig_nbformat": 4,
  "vscode": {
   "interpreter": {
    "hash": "a7ef0543ba5740bb3b86eecce7fad09724032156fad1b7664eb28f0ada8e7072"
   }
  }
 },
 "nbformat": 4,
 "nbformat_minor": 2
}
